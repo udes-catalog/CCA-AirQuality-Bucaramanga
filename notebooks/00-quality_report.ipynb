{
 "cells": [
  {
   "cell_type": "markdown",
   "id": "e2a3dc8f",
   "metadata": {},
   "source": [
    "## 🧪 Data Quality Report Generator\n",
    "This notebook analyzes a clinical dataset and produces a markdown report summarizing its quality metrics."
   ]
  },
  {
   "cell_type": "code",
   "execution_count": null,
   "id": "f4cf2015",
   "metadata": {},
   "outputs": [],
   "source": [
    "import pandas as pd\n",
    "\n",
    "# Load your dataset\n",
    "csv_file_path = \"../data/data_es.csv\"  # Modify if needed\n",
    "df = pd.read_csv(csv_file_path)\n",
    "df.head()\n"
   ]
  },
  {
   "cell_type": "markdown",
   "id": "ec89a74d",
   "metadata": {},
   "source": [
    "#### 🔍 Missing Values per Column"
   ]
  },
  {
   "cell_type": "code",
   "execution_count": null,
   "id": "2239f12b",
   "metadata": {},
   "outputs": [],
   "source": [
    "missing_values = df.isnull().sum()\n",
    "missing_values[missing_values > 0]\n"
   ]
  },
  {
   "cell_type": "markdown",
   "id": "ff3ae398",
   "metadata": {},
   "source": [
    "#### 🔁 Duplicate Rows"
   ]
  },
  {
   "cell_type": "code",
   "execution_count": null,
   "id": "13d14957",
   "metadata": {},
   "outputs": [],
   "source": [
    "duplicate_count = df.duplicated().sum()\n",
    "f\"Duplicate rows: {duplicate_count}\"\n"
   ]
  },
  {
   "cell_type": "markdown",
   "id": "630b3939",
   "metadata": {},
   "source": [
    "#### 🧬 Data Types"
   ]
  },
  {
   "cell_type": "code",
   "execution_count": null,
   "id": "1503eac1",
   "metadata": {},
   "outputs": [],
   "source": [
    "df.dtypes\n"
   ]
  },
  {
   "cell_type": "markdown",
   "id": "41974a14",
   "metadata": {},
   "source": [
    "#### 🔢 Unique Values per Column"
   ]
  },
  {
   "cell_type": "code",
   "execution_count": null,
   "id": "349ed39b",
   "metadata": {},
   "outputs": [],
   "source": [
    "df.nunique().sort_values(ascending=False)\n"
   ]
  },
  {
   "cell_type": "markdown",
   "id": "ea13421f",
   "metadata": {},
   "source": [
    "#### 📊 Summary Statistics (Numerical Columns)"
   ]
  },
  {
   "cell_type": "code",
   "execution_count": null,
   "id": "54bff7e0",
   "metadata": {},
   "outputs": [],
   "source": [
    "df.describe(include=[float, int]).transpose().round(2)\n"
   ]
  },
  {
   "cell_type": "markdown",
   "id": "fbaa3d50",
   "metadata": {},
   "source": [
    "### 📝 Export Report as Markdown"
   ]
  },
  {
   "cell_type": "code",
   "execution_count": null,
   "id": "55d33409",
   "metadata": {},
   "outputs": [],
   "source": [
    "quality_md = \"# Data Quality Report\\n\\n\"\n",
    "\n",
    "quality_md += \"## Missing Values per Column\\n\"\n",
    "for col, val in df.isnull().sum().items():\n",
    "    quality_md += f\"- **{col}**: {val} missing values\\n\"\n",
    "\n",
    "quality_md += f\"\\n## Duplicate Rows\\n- {df.duplicated().sum()} duplicate rows detected\\n\"\n",
    "\n",
    "quality_md += \"\\n## Data Types\\n\"\n",
    "for col, dtype in df.dtypes.astype(str).items():\n",
    "    quality_md += f\"- **{col}**: {dtype}\\n\"\n",
    "\n",
    "quality_md += \"\\n## Unique Values per Column\\n\"\n",
    "for col, val in df.nunique().items():\n",
    "    quality_md += f\"- **{col}**: {val} unique values\\n\"\n",
    "\n",
    "quality_md += \"\\n## Summary Statistics (Numerical Columns)\\n\"\n",
    "quality_md += df.describe(include=[float, int]).transpose().round(2).to_markdown()\n",
    "\n",
    "with open(\"QUALITY_REPORT.md\", \"w\", encoding=\"utf-8\") as f:\n",
    "    f.write(quality_md)\n",
    "\n",
    "print(\"✅ QUALITY_REPORT.md generated successfully.\")\n"
   ]
  }
 ],
 "metadata": {
  "kernelspec": {
   "display_name": "Python 3",
   "language": "python",
   "name": "python3"
  },
  "language_info": {
   "name": "python",
   "version": "3.11"
  }
 },
 "nbformat": 4,
 "nbformat_minor": 5
}
