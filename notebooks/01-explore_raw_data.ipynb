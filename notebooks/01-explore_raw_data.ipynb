{
 "cells": [
  {
   "cell_type": "markdown",
   "id": "fde96764",
   "metadata": {},
   "source": [
    "# 🧭 Explore Raw Data\n",
    "\n",
    "This notebook provides a general overview of the dataset using basic Pandas functions and visualizations with Matplotlib."
   ]
  },
  {
   "cell_type": "code",
   "execution_count": null,
   "id": "27a134ae",
   "metadata": {},
   "outputs": [],
   "source": [
    "import pandas as pd\n",
    "import matplotlib.pyplot as plt\n",
    "import seaborn as sns\n",
    "\n",
    "# Set plot style\n",
    "sns.set(style=\"whitegrid\")\n"
   ]
  },
  {
   "cell_type": "code",
   "execution_count": null,
   "id": "99b2718e",
   "metadata": {},
   "outputs": [],
   "source": [
    "# Load the raw metadata CSV\n",
    "df = pd.read_csv('../data/raw/metadata.csv')\n",
    "\n",
    "# Display basic information\n",
    "df.info()\n",
    "\n",
    "# Show first few rows\n",
    "df.head()\n"
   ]
  },
  {
   "cell_type": "code",
   "execution_count": null,
   "id": "794a5901",
   "metadata": {},
   "outputs": [],
   "source": [
    "# Summary statistics for numerical columns\n",
    "df.describe()\n"
   ]
  },
  {
   "cell_type": "code",
   "execution_count": null,
   "id": "4906c1ac",
   "metadata": {},
   "outputs": [],
   "source": [
    "# Check for missing values\n",
    "df.isnull().sum()\n"
   ]
  },
  {
   "cell_type": "markdown",
   "id": "6f9c52e4",
   "metadata": {},
   "source": [
    "## 📊 Variable Distributions"
   ]
  },
  {
   "cell_type": "code",
   "execution_count": null,
   "id": "7a6fed7d",
   "metadata": {},
   "outputs": [],
   "source": [
    "# Plot histograms for numerical columns\n",
    "numeric_cols = df.select_dtypes(include='number').columns\n",
    "\n",
    "df[numeric_cols].hist(bins=15, figsize=(15, 10), layout=(len(numeric_cols) // 3 + 1, 3))\n",
    "plt.tight_layout()\n",
    "plt.show()\n"
   ]
  },
  {
   "cell_type": "code",
   "execution_count": null,
   "id": "2769aa98",
   "metadata": {},
   "outputs": [],
   "source": [
    "# Boxplots to observe dispersion and outliers\n",
    "for col in numeric_cols:\n",
    "    plt.figure(figsize=(6, 4))\n",
    "    sns.boxplot(x=df[col])\n",
    "    plt.title(f'Distribution of {col}')\n",
    "    plt.show()\n"
   ]
  },
  {
   "cell_type": "code",
   "execution_count": null,
   "id": "36143977",
   "metadata": {},
   "outputs": [],
   "source": [
    "# Plot distribution of categorical variables (if any)\n",
    "categorical_cols = df.select_dtypes(include='object').columns\n",
    "\n",
    "for col in categorical_cols:\n",
    "    plt.figure(figsize=(8, 4))\n",
    "    df[col].value_counts().plot(kind='bar')\n",
    "    plt.title(f'Distribution of {col}')\n",
    "    plt.xlabel(col)\n",
    "    plt.ylabel(\"Count\")\n",
    "    plt.xticks(rotation=45)\n",
    "    plt.tight_layout()\n",
    "    plt.show()\n"
   ]
  }
 ],
 "metadata": {},
 "nbformat": 4,
 "nbformat_minor": 5
}